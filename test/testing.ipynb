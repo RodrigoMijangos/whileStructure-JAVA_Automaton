{
 "cells": [
  {
   "cell_type": "markdown",
   "source": [
    "# Iniciando una vista para manipular el programa\n",
    "\n",
    "Comenzaré creando una vista para la correcta manipulación del programa."
   ],
   "metadata": {
    "collapsed": false
   }
  },
  {
   "cell_type": "code",
   "execution_count": 2,
   "outputs": [
    {
     "data": {
      "text/plain": "(None, [])"
     },
     "execution_count": 2,
     "metadata": {},
     "output_type": "execute_result"
    }
   ],
   "source": [
    "import PySimpleGUI as GUI\n",
    "\n",
    "#Ventana simple\n",
    "\n",
    "GUI.Window(title= \"Hola mundo\", resizable=True, layout=[[]],margins=(100,80)).read()"
   ],
   "metadata": {
    "collapsed": false
   }
  },
  {
   "cell_type": "code",
   "execution_count": 3,
   "outputs": [],
   "source": [
    "layout = [\n",
    "    [GUI.Text(\"SAMPLE TEXT\")],\n",
    "    [GUI.Button(\"OK\")]\n",
    "]\n",
    "\n",
    "window = GUI.Window(\"Screen\", layout)\n",
    "\n",
    "while True:\n",
    "    event, values = window.read()\n",
    "    if event == \"OK\" or event == GUI.WIN_CLOSED:\n",
    "        break\n",
    "window.close()"
   ],
   "metadata": {
    "collapsed": false
   }
  },
  {
   "cell_type": "markdown",
   "source": [
    "# Creando una vista que muestre el contenido del archivo al iniciar el programa\n",
    "\n",
    "Se crea una vista que muestra el contenido del archivo txt y permite editar dentro de la vista."
   ],
   "metadata": {
    "collapsed": false
   }
  },
  {
   "cell_type": "code",
   "execution_count": 6,
   "outputs": [
    {
     "name": "stdout",
     "output_type": "stream",
     "text": [
      "while(a > b){\n",
      "    a = b;\n",
      "    a = a + 1;\n",
      "    b += 1;\n",
      "}\n"
     ]
    }
   ],
   "source": [
    "content = \"\"\n",
    "\n",
    "with open(\"instrucctions.txt\") as archivo:\n",
    "    for line in archivo:\n",
    "        content += line\n",
    "\n",
    "content_Multi = GUI.Multiline(content, size=(50,50))\n",
    "\n",
    "layout = [\n",
    "    [GUI.Text(\"WHILE STRUCTURE\")],\n",
    "    [GUI.Button(\"OK\")],\n",
    "    [content_Multi]\n",
    "]\n",
    "\n",
    "margins = [200, 200]\n",
    "\n",
    "window = GUI.Window(\"Screen\", layout, size=margins)\n",
    "\n",
    "while True:\n",
    "    event, values = window.read()\n",
    "    if event == \"OK\" or event == GUI.WIN_CLOSED:\n",
    "        print(content_Multi.Get())\n",
    "        break\n",
    "window.close()"
   ],
   "metadata": {
    "collapsed": false
   }
  },
  {
   "cell_type": "markdown",
   "source": [
    "# Guardando cambios dentro del archivo txt\n",
    "\n",
    "Añadir la funcionalidad de guardar el contenido del control en el archivo"
   ],
   "metadata": {
    "collapsed": false
   }
  },
  {
   "cell_type": "code",
   "execution_count": 7,
   "outputs": [
    {
     "name": "stdout",
     "output_type": "stream",
     "text": [
      "while(a > b){\n",
      "    a = b;\n",
      "    a = a + 1;\n",
      "    b += 1;\n",
      "}\n"
     ]
    }
   ],
   "source": [
    "import PySimpleGUI as GUI\n",
    "\n",
    "content = \"\"\n",
    "\n",
    "with open(\"instrucctions.txt\") as archivo:\n",
    "    for line in archivo:\n",
    "        content += line\n",
    "\n",
    "content_Multi = GUI.Multiline(content, size=(50,50))\n",
    "\n",
    "layout = [\n",
    "    [GUI.Text(\"WHILE STRUCTURE\")],\n",
    "    [GUI.Button(\"OK\")],\n",
    "    [content_Multi]\n",
    "]\n",
    "\n",
    "margins = [200, 200]\n",
    "\n",
    "window = GUI.Window(\"Screen\", layout, size=margins)\n",
    "\n",
    "while True:\n",
    "    event, values = window.read()\n",
    "    if event == \"OK\" or event == GUI.WIN_CLOSED:\n",
    "        print(content_Multi.Get())\n",
    "        break\n",
    "window.close()"
   ],
   "metadata": {
    "collapsed": false
   }
  },
  {
   "cell_type": "code",
   "execution_count": null,
   "outputs": [],
   "source": [],
   "metadata": {
    "collapsed": false
   }
  }
 ],
 "metadata": {
  "kernelspec": {
   "display_name": "Python 3",
   "language": "python",
   "name": "python3"
  },
  "language_info": {
   "codemirror_mode": {
    "name": "ipython",
    "version": 2
   },
   "file_extension": ".py",
   "mimetype": "text/x-python",
   "name": "python",
   "nbconvert_exporter": "python",
   "pygments_lexer": "ipython2",
   "version": "2.7.6"
  }
 },
 "nbformat": 4,
 "nbformat_minor": 0
}
